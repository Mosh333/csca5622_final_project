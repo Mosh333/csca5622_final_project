{
 "cells": [
  {
   "cell_type": "markdown",
   "id": "7dc681e3-9691-4b83-950c-d2a93e53ead3",
   "metadata": {},
   "source": [
    "# CSCA 5622 Final Project - Consumer PC Hardware Trends and Prediction\n",
    "### By Moshiur Howlader"
   ]
  },
  {
   "cell_type": "markdown",
   "id": "c23c4045-ec3a-474a-b449-0d18251e4790",
   "metadata": {},
   "source": [
    "## Introduction\n",
    "\n",
    "In the digital age, computer hardware is all around us. The performance of the computer hardware is increasing day by day. The founder of Intel gave a good insight for how the computers transitors would improve year by year - called the Moore's Law (see https://en.wikipedia.org/wiki/Moore%27s_law). This obsevation states that the that the number of transistors in an integrated circuit (IC) doubles about every two years  An image of the trend from 1970 to 2020 can be seen below:\n",
    "<br><br>\n",
    "<img src=\"../images/moores_law_transistor_count_1970_2020.png\" alt=\"Description of image\" width=\"1200\" height=\"800\">\r\n",
    "\n",
    "Based on Moore's Law, it might sound like consumers should be able to get computer hardware with double the transistors every two years - surely a consistent predictable increase in computing power every two years!!! Unfortunately, the reality is always never that easy! As the number of transistors become more and more jam packed into a fixed area, the laws of quantum physics begin to kick in. This physical limit prevents engineers from permanently following the trend of Moore's Law! According to https://www.nano.gov/nanotech-101/what/nano-size, the average size of a gold atom is 1/3 nm! So clearly, there is a limit to how much transistors we can jam into computer parts. See the trends of the Chip Lithography size according to Wikipedia below:\n",
    "\n",
    "| Feature Size | Year |\n",
    "|--------------|------|\n",
    "| 20 μm        | 1968 |\n",
    "| 10 μm        | 1971 |\n",
    "| 6 μm         | 1974 |\n",
    "| 3 μm         | 1977 |\n",
    "| 1.5 μm       | 1981 |\n",
    "| 1 μm         | 1984 |\n",
    "| 800 nm       | 1987 |\n",
    "| 600 nm       | 1990 |\n",
    "| 350 nm       | 1993 |\n",
    "| 250 nm       | 1996 |\n",
    "| 180 nm       | 1999 |\n",
    "| 130 nm       | 2001 |\n",
    "| 90 nm        | 2003 |\n",
    "| 65 nm        | 2005 |\n",
    "| 45 nm        | 2007 |\n",
    "| 32 nm        | 2009 |\n",
    "| 28 nm        | 2010 |\n",
    "| 22 nm        | 2012 |\n",
    "| 14 nm        | 2014 |\n",
    "| 10 nm        | 2016 |\n",
    "| 7 nm         | 2018 |\n",
    "| 5 nm         | 2020 |\n",
    "| 3 nm         | 2022 |\n",
    "| 2 nm         | ~2025 (Future) |\n",
    "\n",
    "According to the famous CEO of Nvidia, Jensen Huang, he has claimed Moore's Law is dead (https://www.techspot.com/news/96094-nvidia-jensen-huang-once-again-claims-moore-law.html). That could be a fair statement given the physical limitations of chips. But as a consumer, why should we care? Well, if we know we will get less and less transistors per area in the upcoming generations, will the consumers begin paying more for less?\n",
    "\n",
    "## Why should consumers care about the death of Moore's Law?\n",
    "\n",
    "With the death of Moore's Law, we can expect to get less and less transistors per area improvements in the coming generations. This should concerns consumers! As we hit limits to traditional computing, we may run into a situation where we will pay for more with less and less incremental improvements. This can leave to a situation where corporations can gain more from consumers, which is not a good situtation for any consumers.\n",
    "\n",
    "## The economic reality today\n",
    "\n",
    "Below is the inflation rate for the last 50 years in the USA. Clearly, the\n",
    "\n",
    "https://elements.visualcapitalist.com/purchasing-power-of-the-u-s-dollar-over-time/\n",
    "https://www.axios.com/2023/05/22/americas-growing-rent-burden\n",
    "\n",
    "## Purpose of this project\n",
    "\n",
    "We wish to find answers to the following:\n",
    "\n",
    "1. What are the general trend of CPU and GPU parts from the last 20 or so years?\n",
    "2. Is the price to cost of these parts keeping up? Are consumers getting a fair deal compared to 10 to 20 years ago? \n",
    "3. Can we predict what the next gen unreleased CPU/GPU performance will be using our supervised ML models?\r\n"
   ]
  }
 ],
 "metadata": {
  "kernelspec": {
   "display_name": "Python 3 (ipykernel)",
   "language": "python",
   "name": "python3"
  },
  "language_info": {
   "codemirror_mode": {
    "name": "ipython",
    "version": 3
   },
   "file_extension": ".py",
   "mimetype": "text/x-python",
   "name": "python",
   "nbconvert_exporter": "python",
   "pygments_lexer": "ipython3",
   "version": "3.12.4"
  }
 },
 "nbformat": 4,
 "nbformat_minor": 5
}
